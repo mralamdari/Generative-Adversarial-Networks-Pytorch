{
  "nbformat": 4,
  "nbformat_minor": 0,
  "metadata": {
    "colab": {
      "name": "Generative-Adversarial-Networks-Pytorch.ipynb",
      "provenance": [],
      "collapsed_sections": [],
      "authorship_tag": "ABX9TyNB0aOSXjiLvKi0zIIshh0R",
      "include_colab_link": true
    },
    "kernelspec": {
      "name": "python3",
      "display_name": "Python 3"
    },
    "language_info": {
      "name": "python"
    },
    "widgets": {
      "application/vnd.jupyter.widget-state+json": {
        "5b352d624aa4401c90fd01a4a3383509": {
          "model_module": "@jupyter-widgets/controls",
          "model_name": "HBoxModel",
          "model_module_version": "1.5.0",
          "state": {
            "_dom_classes": [],
            "_model_module": "@jupyter-widgets/controls",
            "_model_module_version": "1.5.0",
            "_model_name": "HBoxModel",
            "_view_count": null,
            "_view_module": "@jupyter-widgets/controls",
            "_view_module_version": "1.5.0",
            "_view_name": "HBoxView",
            "box_style": "",
            "children": [
              "IPY_MODEL_73a34155301b494e85e4016a07acdcc4",
              "IPY_MODEL_d50ff7e6642c4db8997fd0f0b443b1c2",
              "IPY_MODEL_2c750a193268477fb28a4cfc58711b3b"
            ],
            "layout": "IPY_MODEL_0d6dda0f8bb64a59b4962d9f001b7842"
          }
        },
        "73a34155301b494e85e4016a07acdcc4": {
          "model_module": "@jupyter-widgets/controls",
          "model_name": "HTMLModel",
          "model_module_version": "1.5.0",
          "state": {
            "_dom_classes": [],
            "_model_module": "@jupyter-widgets/controls",
            "_model_module_version": "1.5.0",
            "_model_name": "HTMLModel",
            "_view_count": null,
            "_view_module": "@jupyter-widgets/controls",
            "_view_module_version": "1.5.0",
            "_view_name": "HTMLView",
            "description": "",
            "description_tooltip": null,
            "layout": "IPY_MODEL_764abe67f0ff4bb48adfe224aa0d8c7f",
            "placeholder": "​",
            "style": "IPY_MODEL_4f1f5eee922340edba719c1cad9b4991",
            "value": ""
          }
        },
        "d50ff7e6642c4db8997fd0f0b443b1c2": {
          "model_module": "@jupyter-widgets/controls",
          "model_name": "FloatProgressModel",
          "model_module_version": "1.5.0",
          "state": {
            "_dom_classes": [],
            "_model_module": "@jupyter-widgets/controls",
            "_model_module_version": "1.5.0",
            "_model_name": "FloatProgressModel",
            "_view_count": null,
            "_view_module": "@jupyter-widgets/controls",
            "_view_module_version": "1.5.0",
            "_view_name": "ProgressView",
            "bar_style": "success",
            "description": "",
            "description_tooltip": null,
            "layout": "IPY_MODEL_9b3e05f8f1444770b5d6eba5dd17ac1f",
            "max": 2640397119,
            "min": 0,
            "orientation": "horizontal",
            "style": "IPY_MODEL_e1412955551344d7a5eab9b33c3eecc6",
            "value": 2640397119
          }
        },
        "2c750a193268477fb28a4cfc58711b3b": {
          "model_module": "@jupyter-widgets/controls",
          "model_name": "HTMLModel",
          "model_module_version": "1.5.0",
          "state": {
            "_dom_classes": [],
            "_model_module": "@jupyter-widgets/controls",
            "_model_module_version": "1.5.0",
            "_model_name": "HTMLModel",
            "_view_count": null,
            "_view_module": "@jupyter-widgets/controls",
            "_view_module_version": "1.5.0",
            "_view_name": "HTMLView",
            "description": "",
            "description_tooltip": null,
            "layout": "IPY_MODEL_2c3faa8bf2c34b1e9fc3c462070e4d31",
            "placeholder": "​",
            "style": "IPY_MODEL_f3330b1aff9f47779861797ffabaa849",
            "value": " 2640397312/? [01:17&lt;00:00, 36253097.21it/s]"
          }
        },
        "0d6dda0f8bb64a59b4962d9f001b7842": {
          "model_module": "@jupyter-widgets/base",
          "model_name": "LayoutModel",
          "model_module_version": "1.2.0",
          "state": {
            "_model_module": "@jupyter-widgets/base",
            "_model_module_version": "1.2.0",
            "_model_name": "LayoutModel",
            "_view_count": null,
            "_view_module": "@jupyter-widgets/base",
            "_view_module_version": "1.2.0",
            "_view_name": "LayoutView",
            "align_content": null,
            "align_items": null,
            "align_self": null,
            "border": null,
            "bottom": null,
            "display": null,
            "flex": null,
            "flex_flow": null,
            "grid_area": null,
            "grid_auto_columns": null,
            "grid_auto_flow": null,
            "grid_auto_rows": null,
            "grid_column": null,
            "grid_gap": null,
            "grid_row": null,
            "grid_template_areas": null,
            "grid_template_columns": null,
            "grid_template_rows": null,
            "height": null,
            "justify_content": null,
            "justify_items": null,
            "left": null,
            "margin": null,
            "max_height": null,
            "max_width": null,
            "min_height": null,
            "min_width": null,
            "object_fit": null,
            "object_position": null,
            "order": null,
            "overflow": null,
            "overflow_x": null,
            "overflow_y": null,
            "padding": null,
            "right": null,
            "top": null,
            "visibility": null,
            "width": null
          }
        },
        "764abe67f0ff4bb48adfe224aa0d8c7f": {
          "model_module": "@jupyter-widgets/base",
          "model_name": "LayoutModel",
          "model_module_version": "1.2.0",
          "state": {
            "_model_module": "@jupyter-widgets/base",
            "_model_module_version": "1.2.0",
            "_model_name": "LayoutModel",
            "_view_count": null,
            "_view_module": "@jupyter-widgets/base",
            "_view_module_version": "1.2.0",
            "_view_name": "LayoutView",
            "align_content": null,
            "align_items": null,
            "align_self": null,
            "border": null,
            "bottom": null,
            "display": null,
            "flex": null,
            "flex_flow": null,
            "grid_area": null,
            "grid_auto_columns": null,
            "grid_auto_flow": null,
            "grid_auto_rows": null,
            "grid_column": null,
            "grid_gap": null,
            "grid_row": null,
            "grid_template_areas": null,
            "grid_template_columns": null,
            "grid_template_rows": null,
            "height": null,
            "justify_content": null,
            "justify_items": null,
            "left": null,
            "margin": null,
            "max_height": null,
            "max_width": null,
            "min_height": null,
            "min_width": null,
            "object_fit": null,
            "object_position": null,
            "order": null,
            "overflow": null,
            "overflow_x": null,
            "overflow_y": null,
            "padding": null,
            "right": null,
            "top": null,
            "visibility": null,
            "width": null
          }
        },
        "4f1f5eee922340edba719c1cad9b4991": {
          "model_module": "@jupyter-widgets/controls",
          "model_name": "DescriptionStyleModel",
          "model_module_version": "1.5.0",
          "state": {
            "_model_module": "@jupyter-widgets/controls",
            "_model_module_version": "1.5.0",
            "_model_name": "DescriptionStyleModel",
            "_view_count": null,
            "_view_module": "@jupyter-widgets/base",
            "_view_module_version": "1.2.0",
            "_view_name": "StyleView",
            "description_width": ""
          }
        },
        "9b3e05f8f1444770b5d6eba5dd17ac1f": {
          "model_module": "@jupyter-widgets/base",
          "model_name": "LayoutModel",
          "model_module_version": "1.2.0",
          "state": {
            "_model_module": "@jupyter-widgets/base",
            "_model_module_version": "1.2.0",
            "_model_name": "LayoutModel",
            "_view_count": null,
            "_view_module": "@jupyter-widgets/base",
            "_view_module_version": "1.2.0",
            "_view_name": "LayoutView",
            "align_content": null,
            "align_items": null,
            "align_self": null,
            "border": null,
            "bottom": null,
            "display": null,
            "flex": null,
            "flex_flow": null,
            "grid_area": null,
            "grid_auto_columns": null,
            "grid_auto_flow": null,
            "grid_auto_rows": null,
            "grid_column": null,
            "grid_gap": null,
            "grid_row": null,
            "grid_template_areas": null,
            "grid_template_columns": null,
            "grid_template_rows": null,
            "height": null,
            "justify_content": null,
            "justify_items": null,
            "left": null,
            "margin": null,
            "max_height": null,
            "max_width": null,
            "min_height": null,
            "min_width": null,
            "object_fit": null,
            "object_position": null,
            "order": null,
            "overflow": null,
            "overflow_x": null,
            "overflow_y": null,
            "padding": null,
            "right": null,
            "top": null,
            "visibility": null,
            "width": null
          }
        },
        "e1412955551344d7a5eab9b33c3eecc6": {
          "model_module": "@jupyter-widgets/controls",
          "model_name": "ProgressStyleModel",
          "model_module_version": "1.5.0",
          "state": {
            "_model_module": "@jupyter-widgets/controls",
            "_model_module_version": "1.5.0",
            "_model_name": "ProgressStyleModel",
            "_view_count": null,
            "_view_module": "@jupyter-widgets/base",
            "_view_module_version": "1.2.0",
            "_view_name": "StyleView",
            "bar_color": null,
            "description_width": ""
          }
        },
        "2c3faa8bf2c34b1e9fc3c462070e4d31": {
          "model_module": "@jupyter-widgets/base",
          "model_name": "LayoutModel",
          "model_module_version": "1.2.0",
          "state": {
            "_model_module": "@jupyter-widgets/base",
            "_model_module_version": "1.2.0",
            "_model_name": "LayoutModel",
            "_view_count": null,
            "_view_module": "@jupyter-widgets/base",
            "_view_module_version": "1.2.0",
            "_view_name": "LayoutView",
            "align_content": null,
            "align_items": null,
            "align_self": null,
            "border": null,
            "bottom": null,
            "display": null,
            "flex": null,
            "flex_flow": null,
            "grid_area": null,
            "grid_auto_columns": null,
            "grid_auto_flow": null,
            "grid_auto_rows": null,
            "grid_column": null,
            "grid_gap": null,
            "grid_row": null,
            "grid_template_areas": null,
            "grid_template_columns": null,
            "grid_template_rows": null,
            "height": null,
            "justify_content": null,
            "justify_items": null,
            "left": null,
            "margin": null,
            "max_height": null,
            "max_width": null,
            "min_height": null,
            "min_width": null,
            "object_fit": null,
            "object_position": null,
            "order": null,
            "overflow": null,
            "overflow_x": null,
            "overflow_y": null,
            "padding": null,
            "right": null,
            "top": null,
            "visibility": null,
            "width": null
          }
        },
        "f3330b1aff9f47779861797ffabaa849": {
          "model_module": "@jupyter-widgets/controls",
          "model_name": "DescriptionStyleModel",
          "model_module_version": "1.5.0",
          "state": {
            "_model_module": "@jupyter-widgets/controls",
            "_model_module_version": "1.5.0",
            "_model_name": "DescriptionStyleModel",
            "_view_count": null,
            "_view_module": "@jupyter-widgets/base",
            "_view_module_version": "1.2.0",
            "_view_name": "StyleView",
            "description_width": ""
          }
        }
      }
    }
  },
  "cells": [
    {
      "cell_type": "markdown",
      "metadata": {
        "id": "view-in-github",
        "colab_type": "text"
      },
      "source": [
        "<a href=\"https://colab.research.google.com/github/mr-alamdari/Generative-Adversarial-Networks-Pytorch/blob/main/Generative_Adversarial_Networks_Pytorch.ipynb\" target=\"_parent\"><img src=\"https://colab.research.google.com/assets/colab-badge.svg\" alt=\"Open In Colab\"/></a>"
      ]
    },
    {
      "cell_type": "code",
      "execution_count": 3,
      "metadata": {
        "id": "725uuhEomclt"
      },
      "outputs": [],
      "source": [
        "import os\n",
        "import copy\n",
        "import numpy as np\n",
        "import pandas as pd\n",
        "import matplotlib.pyplot as plt\n",
        "\n",
        "import torch\n",
        "import torchvision\n",
        "import torchsummary"
      ]
    },
    {
      "cell_type": "markdown",
      "source": [
        "#1.Data"
      ],
      "metadata": {
        "id": "L9ycKrgy_HNi"
      }
    },
    {
      "cell_type": "code",
      "source": [
        "path2data = '/content/data'\n",
        "os.makedirs(path2data, exist_ok=True)"
      ],
      "metadata": {
        "id": "e_qMVSemtEkM"
      },
      "execution_count": 4,
      "outputs": []
    },
    {
      "cell_type": "code",
      "source": [
        "h, w = 64, 64\n",
        "mean = (0.485, 0.456, 0.406)\n",
        "std = (0.5, 0.5, 0.5)\n",
        "transform = torchvision.transforms.Compose([\n",
        "            torchvision.transforms.Resize((h, w)),\n",
        "            torchvision.transforms.CenterCrop((h, w)),\n",
        "            torchvision.transforms.ToTensor(),\n",
        "            torchvision.transforms.Normalize(mean, std)])"
      ],
      "metadata": {
        "id": "d8dK13AbtVM8"
      },
      "execution_count": 5,
      "outputs": []
    },
    {
      "cell_type": "code",
      "source": [
        "from torchvision.transforms import transforms\n",
        "train_ds = torchvision.datasets.STL10(path2data,\n",
        "                                      split='train',\n",
        "                                      download=True,\n",
        "                                      transform=transform)"
      ],
      "metadata": {
        "colab": {
          "base_uri": "https://localhost:8080/",
          "height": 0,
          "referenced_widgets": [
            "5b352d624aa4401c90fd01a4a3383509",
            "73a34155301b494e85e4016a07acdcc4",
            "d50ff7e6642c4db8997fd0f0b443b1c2",
            "2c750a193268477fb28a4cfc58711b3b",
            "0d6dda0f8bb64a59b4962d9f001b7842",
            "764abe67f0ff4bb48adfe224aa0d8c7f",
            "4f1f5eee922340edba719c1cad9b4991",
            "9b3e05f8f1444770b5d6eba5dd17ac1f",
            "e1412955551344d7a5eab9b33c3eecc6",
            "2c3faa8bf2c34b1e9fc3c462070e4d31",
            "f3330b1aff9f47779861797ffabaa849"
          ]
        },
        "id": "xtSB9Ae4tn6U",
        "outputId": "566fd590-3c90-4700-8725-fd227a1513ca"
      },
      "execution_count": 6,
      "outputs": [
        {
          "output_type": "stream",
          "name": "stdout",
          "text": [
            "Downloading http://ai.stanford.edu/~acoates/stl10/stl10_binary.tar.gz to /content/data/stl10_binary.tar.gz\n"
          ]
        },
        {
          "output_type": "display_data",
          "data": {
            "text/plain": [
              "  0%|          | 0/2640397119 [00:00<?, ?it/s]"
            ],
            "application/vnd.jupyter.widget-view+json": {
              "version_major": 2,
              "version_minor": 0,
              "model_id": "5b352d624aa4401c90fd01a4a3383509"
            }
          },
          "metadata": {}
        },
        {
          "output_type": "stream",
          "name": "stdout",
          "text": [
            "Extracting /content/data/stl10_binary.tar.gz to /content/data\n"
          ]
        }
      ]
    },
    {
      "cell_type": "code",
      "source": [
        "for x, _ in train_ds:\n",
        "  print(x.shape, torch.min(x), torch.max(x))\n",
        "  break"
      ],
      "metadata": {
        "colab": {
          "base_uri": "https://localhost:8080/"
        },
        "id": "qBdg2VjP9zNs",
        "outputId": "e788aa43-0678-4726-fd7f-c2d17da2ae37"
      },
      "execution_count": 7,
      "outputs": [
        {
          "output_type": "stream",
          "name": "stdout",
          "text": [
            "torch.Size([3, 64, 64]) tensor(-0.7975) tensor(1.0253)\n"
          ]
        }
      ]
    },
    {
      "cell_type": "code",
      "source": [
        "plt.imshow(torchvision.transforms.functional.to_pil_image(0.5*x + 0.5))"
      ],
      "metadata": {
        "colab": {
          "base_uri": "https://localhost:8080/",
          "height": 0
        },
        "id": "zQM5mbMO9Ttu",
        "outputId": "f5e0408d-1b03-44e1-a1c2-933acce2a306"
      },
      "execution_count": 8,
      "outputs": [
        {
          "output_type": "execute_result",
          "data": {
            "text/plain": [
              "<matplotlib.image.AxesImage at 0x7ff2db5c6a50>"
            ]
          },
          "metadata": {},
          "execution_count": 8
        },
        {
          "output_type": "display_data",
          "data": {
            "text/plain": [
              "<Figure size 432x288 with 1 Axes>"
            ],
            "image/png": "[encoded data removed]"
          },
          "metadata": {
            "needs_background": "light"
          }
        }
      ]
    },
    {
      "cell_type": "code",
      "source": [
        "# If you run into memory errors when training a model, try reducing the batch size.\n",
        "train_dl = torch.utils.data.DataLoader(train_ds, \n",
        "                                   batch_size=32, \n",
        "                                   shuffle=True)"
      ],
      "metadata": {
        "id": "iGl_cKvi1ERq"
      },
      "execution_count": 9,
      "outputs": []
    },
    {
      "cell_type": "code",
      "source": [
        "for x, y in train_dl:\n",
        "  print(x.shape, y.shape)\n",
        "  break"
      ],
      "metadata": {
        "colab": {
          "base_uri": "https://localhost:8080/"
        },
        "id": "dWg6b6y79KSy",
        "outputId": "cc11a747-0f23-466f-d9fd-9e3c62334cee"
      },
      "execution_count": 10,
      "outputs": [
        {
          "output_type": "stream",
          "name": "stdout",
          "text": [
            "torch.Size([32, 3, 64, 64]) torch.Size([32])\n"
          ]
        }
      ]
    },
    {
      "cell_type": "markdown",
      "source": [
        "#2.Generator & Discriminator\n",
        "\n",
        "###The GAN framework is based on the competition of two models, namely, the generator and discriminator.\n",
        "#####The generator generates fake images and the discriminator tries to identify real images from fakes images.\n",
        "###As a result of this competition, the generator will generate better-looking fake images while the discriminator will become better at identifying them."
      ],
      "metadata": {
        "id": "_luL4ZZL_F6I"
      }
    },
    {
      "cell_type": "code",
      "source": [
        "device = torch.device('cuda' if torch.cuda.is_available() else 'cpu')"
      ],
      "metadata": {
        "id": "zliisrEF0CLK"
      },
      "execution_count": 11,
      "outputs": []
    },
    {
      "cell_type": "markdown",
      "source": [
        "##Generator"
      ],
      "metadata": {
        "id": "jyTCEmnYxjmb"
      }
    },
    {
      "cell_type": "code",
      "source": [
        "class Generator(torch.nn.Module):\n",
        "  \n",
        "  def __init__(self, params):\n",
        "    super(Generator, self).__init__()\n",
        "    nz = params['nz']\n",
        "    ngf = params['ngf']\n",
        "    noc = params['noc']\n",
        "\n",
        "    self.dconv1 = torch.nn.ConvTranspose2d(nz, ngf*8, kernel_size=4, stride=1, padding=0, bias=False)\n",
        "    self.bn1 = torch.nn.BatchNorm2d(ngf*8)\n",
        "    \n",
        "    self.dconv2 = torch.nn.ConvTranspose2d(ngf*8, ngf*4, kernel_size=4, stride=2, padding=1, bias=False)\n",
        "    self.bn2 = torch.nn.BatchNorm2d(ngf*4)\n",
        "    \n",
        "    self.dconv3 = torch.nn.ConvTranspose2d(ngf*4, ngf*2, kernel_size=4, stride=2, padding=1, bias=False)\n",
        "    self.bn3 = torch.nn.BatchNorm2d(ngf*2)\n",
        "    \n",
        "    self.dconv4 = torch.nn.ConvTranspose2d(ngf*2, ngf, kernel_size=4, stride=2, padding=1, bias=False)\n",
        "    self.bn4 = torch.nn.BatchNorm2d(ngf)\n",
        "\n",
        "    self.dconv5 = torch.nn.ConvTranspose2d(ngf, noc, kernel_size=4, stride=2, padding=1, bias=False)\n",
        "\n",
        "  def forward(self, x):\n",
        "    x = self.dconv1(x)\n",
        "    x = self.bn1(x)\n",
        "    x = torch.nn.functional.relu(x)\n",
        "\n",
        "    x = self.dconv2(x)\n",
        "    x = self.bn2(x)\n",
        "    x = torch.nn.functional.relu(x)\n",
        "\n",
        "    x = self.dconv3(x)\n",
        "    x = self.bn3(x)\n",
        "    x = torch.nn.functional.relu(x)\n",
        "\n",
        "    x = self.dconv4(x)\n",
        "    x = self.bn4(x)\n",
        "    x = torch.nn.functional.relu(x)\n",
        "\n",
        "    x = self.dconv5(x)\n",
        "    x = torch.tanh(x)\n",
        "\n",
        "    return x"
      ],
      "metadata": {
        "id": "jFniHSCe9hF4"
      },
      "execution_count": 16,
      "outputs": []
    },
    {
      "cell_type": "code",
      "source": [
        "params_gen = {'nz': 100, 'ngf': 64, 'noc':3}\n",
        "\n",
        "model_gen = Generator(params_gen)\n",
        "model_gen = model_gen.to(device)"
      ],
      "metadata": {
        "id": "ZTSXx3yHzlwF"
      },
      "execution_count": 17,
      "outputs": []
    },
    {
      "cell_type": "code",
      "source": [
        "print(model_gen)"
      ],
      "metadata": {
        "colab": {
          "base_uri": "https://localhost:8080/"
        },
        "id": "dFR2XnVL0V61",
        "outputId": "b4bd770e-e22d-4a9d-cae9-1a63177fc1b0"
      },
      "execution_count": 18,
      "outputs": [
        {
          "output_type": "stream",
          "name": "stdout",
          "text": [
            "Generator(\n",
            "  (dconv1): ConvTranspose2d(100, 512, kernel_size=(4, 4), stride=(1, 1), bias=False)\n",
            "  (bn1): BatchNorm2d(512, eps=1e-05, momentum=0.1, affine=True, track_running_stats=True)\n",
            "  (dconv2): ConvTranspose2d(512, 256, kernel_size=(4, 4), stride=(2, 2), padding=(1, 1), bias=False)\n",
            "  (bn2): BatchNorm2d(256, eps=1e-05, momentum=0.1, affine=True, track_running_stats=True)\n",
            "  (dconv3): ConvTranspose2d(256, 128, kernel_size=(4, 4), stride=(2, 2), padding=(1, 1), bias=False)\n",
            "  (bn3): BatchNorm2d(128, eps=1e-05, momentum=0.1, affine=True, track_running_stats=True)\n",
            "  (dconv4): ConvTranspose2d(128, 64, kernel_size=(4, 4), stride=(2, 2), padding=(1, 1), bias=False)\n",
            "  (bn4): BatchNorm2d(64, eps=1e-05, momentum=0.1, affine=True, track_running_stats=True)\n",
            "  (dconv5): ConvTranspose2d(64, 3, kernel_size=(4, 4), stride=(2, 2), padding=(1, 1), bias=False)\n",
            ")\n"
          ]
        }
      ]
    },
    {
      "cell_type": "code",
      "source": [
        "with torch.no_grad():\n",
        "  r = model_gen(torch.zeros(1, 100, 1, 1, device=device))\n",
        "print(r.shape)"
      ],
      "metadata": {
        "colab": {
          "base_uri": "https://localhost:8080/"
        },
        "id": "QZQjtCsO0c1e",
        "outputId": "653aec36-26aa-4cd0-a71f-fff83f4f6929"
      },
      "execution_count": 19,
      "outputs": [
        {
          "output_type": "stream",
          "name": "stdout",
          "text": [
            "torch.Size([1, 3, 64, 64])\n"
          ]
        }
      ]
    },
    {
      "cell_type": "code",
      "source": [
        ""
      ],
      "metadata": {
        "id": "qYQmjpOn1YNu"
      },
      "execution_count": null,
      "outputs": []
    }
  ]
}