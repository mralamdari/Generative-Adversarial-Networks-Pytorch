{
  "nbformat": 4,
  "nbformat_minor": 0,
  "metadata": {
    "colab": {
      "name": "Generative-Adversarial-Networks-Pytorch.ipynb",
      "provenance": [],
      "collapsed_sections": [],
      "authorship_tag": "ABX9TyPLH7i172rsjkMjDUirSr02",
      "include_colab_link": true
    },
    "kernelspec": {
      "name": "python3",
      "display_name": "Python 3"
    },
    "language_info": {
      "name": "python"
    }
  },
  "cells": [
    {
      "cell_type": "markdown",
      "metadata": {
        "id": "view-in-github",
        "colab_type": "text"
      },
      "source": [
        "<a href=\"https://colab.research.google.com/github/mr-alamdari/Generative-Adversarial-Networks-Pytorch/blob/main/Generative_Adversarial_Networks_Pytorch.ipynb\" target=\"_parent\"><img src=\"https://colab.research.google.com/assets/colab-badge.svg\" alt=\"Open In Colab\"/></a>"
      ]
    },
    {
      "cell_type": "code",
      "execution_count": 1,
      "metadata": {
        "id": "725uuhEomclt"
      },
      "outputs": [],
      "source": [
        "import os\n",
        "import copy\n",
        "import numpy as np\n",
        "import pandas as pd\n",
        "import matplotlib.pyplot as plt\n",
        "\n",
        "import torch\n",
        "import torchvision\n",
        "import torchsummary"
      ]
    },
    {
      "cell_type": "code",
      "source": [
        "path2data = '/content/data'\n",
        "os.makedirs(path2data, exist_ok=True)"
      ],
      "metadata": {
        "id": "e_qMVSemtEkM"
      },
      "execution_count": 7,
      "outputs": []
    },
    {
      "cell_type": "code",
      "source": [
        "h, w = 64, 64\n",
        "mean = (0.485, 0.456, 0.406)\n",
        "std = (0.5, 0.5, 0.5)\n",
        "transform = torchvision.transforms.Compose([\n",
        "            torchvision.transforms.Resize((h, w)),\n",
        "            torchvision.transforms.CenterCrop((h, w)),\n",
        "            torchvision.transforms.ToTensor(),\n",
        "            torchvision.transforms.Normalize(mean, std)])"
      ],
      "metadata": {
        "id": "d8dK13AbtVM8"
      },
      "execution_count": 12,
      "outputs": []
    },
    {
      "cell_type": "code",
      "source": [
        ""
      ],
      "metadata": {
        "id": "xtSB9Ae4tn6U"
      },
      "execution_count": null,
      "outputs": []
    }
  ]
}